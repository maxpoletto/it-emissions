{
 "cells": [
  {
   "cell_type": "code",
   "execution_count": 19,
   "id": "ae93100d",
   "metadata": {},
   "outputs": [],
   "source": [
    "try:\n",
    "    import google.colab\n",
    "    IN_COLAB = True\n",
    "except ImportError:\n",
    "    IN_COLAB = False\n",
    "\n",
    "if IN_COLAB:\n",
    "    # Running in Colab: download project-local imports.\n",
    "    !wget -q https://raw.githubusercontent.com/maxpoletto/it-emissions/main/input_table.py\n",
    "    import sys\n",
    "    sys.path.append('.')\n",
    "    print(\"Setup complete for Colab environment.\")\n"
   ]
  },
  {
   "cell_type": "code",
   "execution_count": null,
   "id": "cell-id",
   "metadata": {},
   "outputs": [
    {
     "data": {
      "application/vnd.jupyter.widget-view+json": {
       "model_id": "fc104051627d476d82f6a25846569f8f",
       "version_major": 2,
       "version_minor": 0
      },
      "text/plain": [
       "VBox(children=(HBox(children=(Label(value='', layout=Layout(width='120px')), Label(value='switzerland', layout…"
      ]
     },
     "metadata": {},
     "output_type": "display_data"
    },
    {
     "data": {
      "application/vnd.jupyter.widget-view+json": {
       "model_id": "8af8357acc5649888b3261aa3854b9c7",
       "version_major": 2,
       "version_minor": 0
      },
      "text/plain": [
       "VBox(children=(HBox(children=(Label(value='', layout=Layout(width='120px')), Label(value='lifetime_y', layout=…"
      ]
     },
     "metadata": {},
     "output_type": "display_data"
    },
    {
     "data": {
      "application/vnd.jupyter.widget-view+json": {
       "model_id": "4e0003cfaf174f81a778fa7c223239e6",
       "version_major": 2,
       "version_minor": 0
      },
      "text/plain": [
       "VBox(children=(HBox(children=(Label(value='', layout=Layout(width='120px')), Label(value='num_users', layout=L…"
      ]
     },
     "metadata": {},
     "output_type": "display_data"
    },
    {
     "data": {
      "application/vnd.jupyter.widget-view+json": {
       "model_id": "75c288661e13428bb715a33b1fe377c2",
       "version_major": 2,
       "version_minor": 0
      },
      "text/plain": [
       "HBox(children=(Output(),))"
      ]
     },
     "metadata": {},
     "output_type": "display_data"
    },
    {
     "data": {
      "application/vnd.jupyter.widget-view+json": {
       "model_id": "a83a9433b3a64c679a1913d8d3e7347c",
       "version_major": 2,
       "version_minor": 0
      },
      "text/plain": [
       "Textarea(value='', layout=Layout(height='40px', overflow='hidden', width='99%'))"
      ]
     },
     "metadata": {},
     "output_type": "display_data"
    }
   ],
   "source": [
    "from input_table import create_inputs\n",
    "from ipywidgets import HBox, Layout, Output, Textarea\n",
    "import matplotlib.pyplot as plt\n",
    "\n",
    "energy_mix = {\n",
    "    \"switzerland\": {\n",
    "        # From app.electricitymaps.org\n",
    "        \"g_per_kwh\": 54\n",
    "        # https://www.bafu.admin.ch/bafu/de/home/themen/klima/klimawandel--fragen-und-antworten.html\n",
    "        # has a substantially higher (2x) value.\n",
    "    },\n",
    "    \"eu27\": {\n",
    "        # From https://www.eea.europa.eu/en/analysis/indicators/greenhouse-gas-emission-intensity-of-1/greenhouse-gas-emission-intensity-of-electricity-generation-country-level        \n",
    "        \"g_per_kwh\": 210\n",
    "    }\n",
    "}\n",
    "hardware = {\n",
    "    \"laptop\": {\n",
    "        \"lifetime_y\": 4,\n",
    "        \"count\": 10175,\n",
    "        \"prod_co2e_kg\": 221,\n",
    "        \"disp_co2e_kg\": -4, # Ecoinvent has negative value??\n",
    "        \"power_w\": 50,\n",
    "        \"power_idle_w\": 1,\n",
    "        \"run_mins_per_day\": 60*6,\n",
    "        \"run_days_per_year\": 5*52,\n",
    "    },\n",
    "    \"desktop-pc\": { # Hörsaalcomputer\n",
    "        \"lifetime_y\": 6,\n",
    "        \"count\": 150,\n",
    "        \"prod_co2e_kg\": 322,\n",
    "        \"disp_co2e_kg\": -19, # Ecoinvent has negative value??\n",
    "        \"power_w\": 100,\n",
    "        \"power_idle_w\": 1,\n",
    "        \"run_mins_per_day\": 60*2,\n",
    "        \"run_days_per_year\": 5*35,\n",
    "    },\n",
    "    \"desktop-monitor\": {\n",
    "        \"lifetime_y\": 6,\n",
    "        \"count\": 10175 + 150, # 10175 laptops + 150 desktop-pc\n",
    "        \"prod_co2e_kg\": 342,\n",
    "        \"disp_co2e_kg\": 2,\n",
    "        \"power_w\": 30,\n",
    "        \"power_idle_w\": 1,\n",
    "        \"run_mins_per_day\": 60*3,\n",
    "        \"run_days_per_year\": 5*45, # some PC, some laptop\n",
    "    },\n",
    "    \"server\": {\n",
    "        \"lifetime_y\": 5,\n",
    "        \"count\": 1028,\n",
    "        \"prod_co2e_kg\": 400,\n",
    "        \"disp_co2e_kg\": 5, # Not in Ecoinvent, just a guess\n",
    "        \"power_w\": 300,\n",
    "        \"power_idle_w\": 20,\n",
    "        \"run_mins_per_day\": 60*24,\n",
    "        \"run_days_per_year\": 365,\n",
    "    },\n",
    "    \"printer-scanner-copier\": {\n",
    "        \"lifetime_y\": 6,\n",
    "        \"count\": 333,\n",
    "        \"prod_co2e_kg\": 1167,\n",
    "        \"disp_co2e_kg\": 45,\n",
    "        \"power_w\": 700,\n",
    "        \"power_idle_w\": 30,\n",
    "        \"run_mins_per_day\": 10,\n",
    "        \"run_days_per_year\": 5*52,\n",
    "    },\n",
    "    \"projector\": {\n",
    "        \"lifetime_y\": 6,\n",
    "        \"count\": 20,\n",
    "        \"prod_co2e_kg\": 30,\n",
    "        \"disp_co2e_kg\": 50,\n",
    "        \"power_w\": 70,\n",
    "        \"power_idle_w\": 80,\n",
    "        \"run_mins_per_day\": 90,\n",
    "        \"run_days_per_year\": 100,\n",
    "    },\n",
    "    \"smartphone\": {\n",
    "        \"lifetime_y\": 3,\n",
    "        \"count\": 2389,\n",
    "        \"prod_co2e_kg\": 38,\n",
    "        \"disp_co2e_kg\": 0, # Another strange Ecoinvent value\n",
    "        \"power_w\": 5,\n",
    "        \"power_idle_w\": 1,\n",
    "        \"run_mins_per_day\": 60*16,\n",
    "        \"run_days_per_year\": 365,\n",
    "    },\n",
    "}\n",
    "\n",
    "ml = {\n",
    "    \"llm use\": {\n",
    "        \"num_users\": 12000,\n",
    "        \"queries_per_day\": 20,\n",
    "        \"days_per_year\": 300,\n",
    "        \"wh_per_query\": 3,\n",
    "    },\n",
    "}\n",
    "\n",
    "# Function to update the bar chart\n",
    "def recalc_hardware(hardware):\n",
    "    emissions = {}\n",
    "    for device, params in hardware.items():\n",
    "        wh = (params[\"power_w\"] * params[\"run_mins_per_day\"] * params[\"run_days_per_year\"]\n",
    "              + params[\"power_idle_w\"] * (24*60 - params[\"run_mins_per_day\"]) * params[\"run_days_per_year\"]\n",
    "              + params[\"power_idle_w\"] * (24*60) * (365 - params[\"run_days_per_year\"])) / 60\n",
    "        kwh = wh / 1000\n",
    "        kgco2 = kwh * energy_mix[\"switzerland\"][\"g_per_kwh\"] / 1000\n",
    "        kgco2 += (params[\"prod_co2e_kg\"] + params[\"disp_co2e_kg\"]) / params[\"lifetime_y\"]\n",
    "        emissions[device] = kgco2 * params[\"count\"]\n",
    "    return emissions\n",
    "\n",
    "def recalc_ml(ml):\n",
    "    emissions = {}\n",
    "    for type, params in ml.items():\n",
    "        kwh = params[\"num_users\"] * params[\"queries_per_day\"] * params[\"days_per_year\"] * params[\"wh_per_query\"] / 1000\n",
    "        emissions[type] = kwh * energy_mix[\"eu27\"][\"g_per_kwh\"] / 1000\n",
    "    return emissions\n",
    "\n",
    "def update_charts(_):\n",
    "    hardware_emissions = recalc_hardware(hardware)\n",
    "    ml_emissions = recalc_ml(ml)\n",
    "    with output:\n",
    "        output.clear_output(wait=True)\n",
    "        plt.figure(figsize=(10, 8))\n",
    "        all_emissions = {**hardware_emissions, **ml_emissions}\n",
    "        plt.bar(all_emissions.keys(), all_emissions.values())\n",
    "        plt.title(\"Emissions by category\", fontsize=12)\n",
    "        plt.ylabel(\"kg CO2e\", fontsize=10)\n",
    "        plt.xticks(rotation=45, ha=\"right\", fontsize=10)\n",
    "        plt.yticks(fontsize=10)\n",
    "        plt.tight_layout()\n",
    "        plt.show()\n",
    "    infotext.value = f\"Hardware emissions: {sum(hardware_emissions.values()):.0f} kg CO2e\\nML emissions: {sum(ml_emissions.values()):.0f} kg CO2e\"\n",
    "\n",
    "inputs0 = create_inputs(energy_mix, update_charts, column_major=True)\n",
    "inputs1 = create_inputs(hardware, update_charts)\n",
    "inputs2 = create_inputs(ml, update_charts)\n",
    "output = Output()\n",
    "outbox = HBox([output]) # Maybe add more outputs later\n",
    "infotext = Textarea(value='', layout=Layout(width='99%', height='40px', overflow='hidden'))\n",
    "display(inputs0, inputs1, inputs2, outbox, infotext, clear=True)\n",
    "update_charts(_)\n"
   ]
  }
 ],
 "metadata": {
  "kernelspec": {
   "display_name": "venv",
   "language": "python",
   "name": "python3"
  },
  "language_info": {
   "codemirror_mode": {
    "name": "ipython",
    "version": 3
   },
   "file_extension": ".py",
   "mimetype": "text/x-python",
   "name": "python",
   "nbconvert_exporter": "python",
   "pygments_lexer": "ipython3",
   "version": "3.9.6"
  }
 },
 "nbformat": 4,
 "nbformat_minor": 5
}
