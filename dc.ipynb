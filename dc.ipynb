{
 "cells": [
  {
   "cell_type": "code",
   "execution_count": null,
   "metadata": {},
   "outputs": [
    {
     "name": "stdout",
     "output_type": "stream",
     "text": [
      "Total number of servers: 1120\n",
      "Total energy consumption for 24 hours: 2665.98 kWh\n",
      "PUE: 1.2633462422185473\n"
     ]
    }
   ],
   "source": [
    "import random\n",
    "\n",
    "class Server:\n",
    "    def __init__(self, power_w, load_factor):\n",
    "        self.power_w = power_w\n",
    "        self.load_factor = load_factor\n",
    "\n",
    "    def variable_load_factor(self):\n",
    "        base = self.load_factor\n",
    "        fluctuation = random.uniform(-0.1, 0.1)  # ±10% random fluctuation\n",
    "        return max(0, min(1, base + fluctuation))\n",
    "\n",
    "    def power_consumption(self):\n",
    "        l = self.variable_load_factor()\n",
    "        return self.power_w * (0.6 * l + 0.4 * l * l)\n",
    "\n",
    "class NetworkGear:\n",
    "    def __init__(self, power_w):\n",
    "        # No load factor because power utilization at >10% load is ~= power utilization at 100% load.\n",
    "        self.power_w = power_w\n",
    "\n",
    "    def power_consumption(self):\n",
    "        return self.power_w\n",
    "\n",
    "class DataCenterEnergyModel:\n",
    "    def __init__(self, servers, network_gear, cooling_power_kw, lighting_power_kw):\n",
    "        self.servers = servers\n",
    "        self.network_gear = network_gear\n",
    "        self.cooling_power_kw = cooling_power_kw\n",
    "        self.lighting_power_kw = lighting_power_kw\n",
    "\n",
    "    def total_energy_consumption(self, hours):\n",
    "        self.compute_kwh = (sum(server.power_consumption() for server in self.servers) / 1000) * hours\n",
    "        network_kwh = (sum(gear.power_consumption() for gear in self.network_gear) / 1000) * hours\n",
    "        cooling_kwh = self.cooling_power_kw * hours\n",
    "        lighting_kwh = self.lighting_power_kw * hours\n",
    "        self.total_energy = self.compute_kwh + network_kwh + cooling_kwh + lighting_kwh\n",
    "        return self.total_energy\n",
    "\n",
    "    def pue(self):\n",
    "        self.total_energy_consumption(24)\n",
    "        return self.total_energy / self.compute_kwh if self.compute_kwh > 0 else float('inf')\n",
    "\n",
    "# Example usage\n",
    "servers = (\n",
    "    [Server(100, 0.5) for _ in range(1000)] +\n",
    "    [Server(500, 0.7) for _ in range(100)] +\n",
    "    [Server(1000, 0.9) for _ in range(20)]\n",
    ")\n",
    "network_gear = (\n",
    "    [NetworkGear(80) for _ in range(20)] +\n",
    "    [NetworkGear(80) for _ in range(5)]\n",
    ")\n",
    "\n",
    "print(f\"Total number of servers: {len(servers)}\")\n",
    "cooling_power_kw = 20  # Cooling system power consumption in kW\n",
    "lighting_power_kw = 1  # Lighting power consumption in kW\n",
    "\n",
    "data_center = DataCenterEnergyModel(servers, network_gear, cooling_power_kw, lighting_power_kw)\n",
    "hours = 24  # Number of hours to calculate energy consumption for\n",
    "total_energy = data_center.total_energy_consumption(hours)\n",
    "pue = data_center.pue()\n",
    "print(f\"Total energy consumption for {hours} hours: {total_energy:.2f} kWh\")\n",
    "print(f\"PUE: {pue:.2f}\")\n"
   ]
  }
 ],
 "metadata": {
  "kernelspec": {
   "display_name": "venv",
   "language": "python",
   "name": "python3"
  },
  "language_info": {
   "codemirror_mode": {
    "name": "ipython",
    "version": 3
   },
   "file_extension": ".py",
   "mimetype": "text/x-python",
   "name": "python",
   "nbconvert_exporter": "python",
   "pygments_lexer": "ipython3",
   "version": "3.9.6"
  }
 },
 "nbformat": 4,
 "nbformat_minor": 2
}
