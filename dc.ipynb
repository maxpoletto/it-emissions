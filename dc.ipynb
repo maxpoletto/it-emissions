{
 "cells": [
  {
   "cell_type": "code",
   "execution_count": null,
   "metadata": {},
   "outputs": [
    {
     "name": "stdout",
     "output_type": "stream",
     "text": [
      "Total energy consumption for 24 hours: 28800.0 kWh\n"
     ]
    }
   ],
   "source": [
    "class Server:\n",
    "    def __init__(self, server_type, load_factor):\n",
    "        self.server_type = server_type\n",
    "        self.load_factor = load_factor\n",
    "        self.power_rating = self.get_power_rating()\n",
    "\n",
    "    def get_power_rating(self):\n",
    "        power_ratings = {\n",
    "            'small': 100,  # kW\n",
    "            'medium': 200,  # kW\n",
    "            'large': 400  # kW\n",
    "        }\n",
    "        return power_ratings.get(self.server_type, 0)\n",
    "\n",
    "    def power_consumption(self):\n",
    "        return self.power_rating * self.load_factor\n",
    "\n",
    "class DataCenterEnergyModel:\n",
    "    def __init__(self, servers, cooling_power_kw, lighting_power_kw, pue):\n",
    "        self.servers = servers\n",
    "        self.cooling_power_kw = cooling_power_kw\n",
    "        self.lighting_power_kw = lighting_power_kw\n",
    "        self.pue = pue\n",
    "\n",
    "    def total_energy_consumption(self, hours):\n",
    "        it_energy = sum(server.power_consumption() for server in self.servers) * hours\n",
    "        cooling_energy = self.cooling_power_kw * hours\n",
    "        lighting_energy = self.lighting_power_kw * hours\n",
    "        total_energy = (it_energy + cooling_energy + lighting_energy) * self.pue\n",
    "        return total_energy\n",
    "\n",
    "# Example usage\n",
    "servers = [\n",
    "    Server('small', 0.5),\n",
    "    Server('medium', 0.7),\n",
    "    Server('large', 0.9)\n",
    "]\n",
    "cooling_power_kw = 200  # Cooling system power consumption in kW\n",
    "lighting_power_kw = 50  # Lighting power consumption in kW\n",
    "pue = 1.5  # Power Usage Effectiveness\n",
    "\n",
    "data_center = DataCenterEnergyModel(servers, cooling_power_kw, lighting_power_kw, pue)\n",
    "hours = 24  # Number of hours to calculate energy consumption for\n",
    "total_energy = data_center.total_energy_consumption(hours)\n",
    "print(f\"Total energy consumption for {hours} hours: {total_energy} kWh\")"
   ]
  }
 ],
 "metadata": {
  "kernelspec": {
   "display_name": "venv",
   "language": "python",
   "name": "python3"
  },
  "language_info": {
   "codemirror_mode": {
    "name": "ipython",
    "version": 3
   },
   "file_extension": ".py",
   "mimetype": "text/x-python",
   "name": "python",
   "nbconvert_exporter": "python",
   "pygments_lexer": "ipython3",
   "version": "3.9.6"
  }
 },
 "nbformat": 4,
 "nbformat_minor": 2
}
